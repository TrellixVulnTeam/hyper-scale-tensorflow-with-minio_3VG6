{
 "cells": [
  {
   "cell_type": "code",
   "execution_count": null,
   "id": "60ddae07-3797-4015-a0a0-4eef1f848bc1",
   "metadata": {},
   "outputs": [],
   "source": [
    "from minio import Minio\n",
    "import os\n",
    "import math\n",
    "import tensorflow as tf\n",
    "from tensorflow import keras"
   ]
  },
  {
   "cell_type": "code",
   "execution_count": null,
   "id": "ca44f4ba-f210-4bf5-bffc-dc0df9d4b63c",
   "metadata": {},
   "outputs": [],
   "source": [
    " # Config Paramters\n",
    "minio_address = \"minio.ns-1.svc.cluster.local\"\n",
    "minio_access_key = \"kubeflow\"\n",
    "minio_secret_key = \"kubeflow123\"\n",
    "datasets_bucket = \"datasets\"\n",
    "preprocessed_data_folder = \"preprocessed-data\"\n",
    "tf_record_file_size = 500"
   ]
  },
  {
   "cell_type": "code",
   "execution_count": null,
   "id": "4d0d70b6-9b83-47fa-a529-314788b5fd5a",
   "metadata": {},
   "outputs": [],
   "source": [
    "minioClient = Minio(minio_address,\n",
    "                    access_key=minio_access_key,\n",
    "                    secret_key=minio_secret_key,\n",
    "                    secure=False)"
   ]
  },
  {
   "cell_type": "code",
   "execution_count": null,
   "id": "c5940e98-5198-4fb0-83ec-05d479480c00",
   "metadata": {},
   "outputs": [],
   "source": [
    "# List all training tfrecord files\n",
    "objects = minioClient.list_objects(datasets_bucket, prefix=f\"{preprocessed_data_folder}/train\")\n",
    "training_files_list = []\n",
    "for obj in objects:\n",
    "    training_files_list.append(obj.object_name)"
   ]
  },
  {
   "cell_type": "code",
   "execution_count": null,
   "id": "283936b8-65f6-4722-ab22-96e3413fe175",
   "metadata": {},
   "outputs": [],
   "source": [
    "# Configure TF to use MinIO\n",
    "os.environ[\"AWS_ACCESS_KEY_ID\"] = minio_access_key\n",
    "os.environ[\"AWS_SECRET_ACCESS_KEY\"] = minio_secret_key\n",
    "os.environ[\"AWS_REGION\"] = \"us-east-1\"\n",
    "os.environ[\"S3_ENDPOINT\"] = minio_address\n",
    "os.environ[\"S3_USE_HTTPS\"] = \"0\"\n",
    "os.environ[\"S3_VERIFY_SSL\"] = \"0\""
   ]
  },
  {
   "cell_type": "code",
   "execution_count": null,
   "id": "379a4a83-6b7d-4742-8941-0f82a458f57f",
   "metadata": {},
   "outputs": [],
   "source": [
    "all_training_filenames = [f\"s3://datasets/{f}\" for f in training_files_list]"
   ]
  },
  {
   "cell_type": "code",
   "execution_count": null,
   "id": "9afdc7fb-c0c1-4606-9cea-62968b009df2",
   "metadata": {},
   "outputs": [],
   "source": [
    "total_train_data_files = math.floor(len(all_training_filenames) * 0.9)\n",
    "if total_train_data_files == len(all_training_filenames):\n",
    "    total_train_data_files -= 1\n",
    "training_files = all_training_filenames[0:total_train_data_files]\n",
    "validation_files = all_training_filenames[total_train_data_files:]"
   ]
  },
  {
   "cell_type": "code",
   "execution_count": null,
   "id": "bde810c9-1b25-4c6c-8b35-23ac16b943e2",
   "metadata": {},
   "outputs": [],
   "source": [
    "AUTO = tf.data.experimental.AUTOTUNE\n",
    "ignore_order = tf.data.Options()\n",
    "ignore_order.experimental_deterministic = False"
   ]
  },
  {
   "cell_type": "code",
   "execution_count": null,
   "id": "1f1357fc-9d14-4088-ad0f-c67021ce1e9f",
   "metadata": {},
   "outputs": [],
   "source": [
    "dataset = tf.data.TFRecordDataset(training_files, num_parallel_reads=AUTO, compression_type=\"GZIP\")\n",
    "dataset = dataset.with_options(ignore_order)\n"
   ]
  },
  {
   "cell_type": "code",
   "execution_count": null,
   "id": "1cf5cfd2-e280-4202-a097-5fe7a887dacd",
   "metadata": {},
   "outputs": [],
   "source": [
    "validation = tf.data.TFRecordDataset(validation_files, num_parallel_reads=AUTO, compression_type=\"GZIP\")\n",
    "validation = validation.with_options(ignore_order)\n"
   ]
  },
  {
   "cell_type": "code",
   "execution_count": null,
   "id": "6d5c5fd2-45a9-414d-9c7b-6c582edcba1a",
   "metadata": {},
   "outputs": [],
   "source": [
    " def decode_fn(record_bytes):\n",
    "    schema = {\n",
    "        \"label\": tf.io.FixedLenFeature([2], dtype=tf.int64),\n",
    "        \"sentence\": tf.io.FixedLenFeature([512], dtype=tf.float32),\n",
    "    }\n",
    "\n",
    "    tf_example = tf.io.parse_single_example(record_bytes, schema)\n",
    "    new_shape = tf.reshape(tf_example[\"sentence\"], [1, 512])\n",
    "    label = tf.reshape(tf_example[\"label\"], [1, 2])\n",
    "    return new_shape, label"
   ]
  },
  {
   "cell_type": "code",
   "execution_count": null,
   "id": "11bf7dcc-6a6b-45d1-a81d-c5b6bcf972ca",
   "metadata": {},
   "outputs": [],
   "source": [
    "# Build model\n",
    "model = keras.Sequential()\n"
   ]
  },
  {
   "cell_type": "code",
   "execution_count": null,
   "id": "a83bab05-6e49-46af-a448-8db1dbea0633",
   "metadata": {},
   "outputs": [],
   "source": [
    "model.add(\n",
    "    keras.layers.Dense(\n",
    "        units=256,\n",
    "        input_shape=(1, 512),\n",
    "        activation=\"relu\"\n",
    "    )\n",
    ")\n",
    "model.add(\n",
    "    keras.layers.Dropout(rate=0.5)\n",
    ")\n",
    "\n",
    "model.add(\n",
    "    keras.layers.Dense(\n",
    "        units=16,\n",
    "        activation=\"relu\"\n",
    "    )\n",
    ")\n",
    "model.add(\n",
    "    keras.layers.Dropout(rate=0.5)\n",
    ")\n",
    "\n",
    "model.add(keras.layers.Dense(2, activation=\"softmax\"))\n",
    "model.compile(\n",
    "    loss=\"categorical_crossentropy\",\n",
    "    optimizer=keras.optimizers.Adam(0.001),\n",
    "    metrics=[\"accuracy\"]\n",
    ")\n",
    "\n",
    "model.summary()"
   ]
  },
  {
   "cell_type": "code",
   "execution_count": null,
   "id": "c0b6a52d-f470-47bf-acd9-564799ecc6aa",
   "metadata": {},
   "outputs": [],
   "source": [
    "mapped_ds = dataset.map(decode_fn)\n",
    "mapped_ds = mapped_ds.repeat(5)\n",
    "mapped_ds = mapped_ds.batch(128)\n",
    "\n",
    "mapped_validation = validation.map(decode_fn)\n",
    "mapped_validation = mapped_validation.repeat(5)\n",
    "mapped_validation = mapped_validation.batch(128)"
   ]
  },
  {
   "cell_type": "code",
   "execution_count": null,
   "id": "2109bc7c-2577-4df0-9764-6f31f9502fac",
   "metadata": {},
   "outputs": [],
   "source": [
    "checkpoint_path = f\"s3://{datasets_bucket}/checkpoints/cp.ckpt\"\n",
    "cp_callback = tf.keras.callbacks.ModelCheckpoint(filepath=checkpoint_path,\n",
    "                                                 save_weights_only=True,\n",
    "                                                 verbose=1)"
   ]
  },
  {
   "cell_type": "code",
   "execution_count": null,
   "id": "89cfacc7-ad23-4fcb-a9b1-a7f5b33fbb42",
   "metadata": {},
   "outputs": [],
   "source": [
    "from datetime import datetime\n",
    "model_note = \"256\"\n",
    "logdir = f\"s3://{datasets_bucket}/logs/imdb/{model_note}-\" + datetime.now().strftime(\"%Y%m%d-%H%M%S\")\n",
    "tensorboard_callback = tf.keras.callbacks.TensorBoard(log_dir=logdir)"
   ]
  },
  {
   "cell_type": "code",
   "execution_count": null,
   "id": "5cc29591-f598-4394-bb1b-077b2297ba2f",
   "metadata": {},
   "outputs": [],
   "source": [
    "history = model.fit(\n",
    "    mapped_ds,\n",
    "    epochs=10,\n",
    "    callbacks=[cp_callback, tensorboard_callback],\n",
    "    validation_data=mapped_validation,\n",
    ")"
   ]
  },
  {
   "cell_type": "code",
   "execution_count": null,
   "id": "0f25f1de-5fbc-4380-bd43-2636fced549b",
   "metadata": {},
   "outputs": [],
   "source": [
    "model_destination = f\"s3://{datasets_bucket}/imdb_sentiment_analysis/1\"\n",
    "model.save(model_destination)"
   ]
  },
  {
   "cell_type": "code",
   "execution_count": null,
   "id": "45174aa6-958e-457f-84c3-7ff44add2afe",
   "metadata": {},
   "outputs": [],
   "source": [
    "with open(output_text_path, 'w') as writer:\n",
    "    writer.write(\"done training!\")\n",
    "print(\"Done!\")"
   ]
  }
 ],
 "metadata": {
  "kernelspec": {
   "display_name": "Python 3",
   "language": "python",
   "name": "python3"
  },
  "language_info": {
   "codemirror_mode": {
    "name": "ipython",
    "version": 3
   },
   "file_extension": ".py",
   "mimetype": "text/x-python",
   "name": "python",
   "nbconvert_exporter": "python",
   "pygments_lexer": "ipython3",
   "version": "3.8.10"
  }
 },
 "nbformat": 4,
 "nbformat_minor": 5
}
