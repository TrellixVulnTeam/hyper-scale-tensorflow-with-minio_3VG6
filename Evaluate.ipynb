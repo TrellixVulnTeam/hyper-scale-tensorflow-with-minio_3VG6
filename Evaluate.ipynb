{
 "cells": [
  {
   "cell_type": "code",
   "execution_count": null,
   "id": "280771f8-f580-47e3-8cc6-41c0a9b787af",
   "metadata": {},
   "outputs": [],
   "source": [
    "import tensorflow as tf\n",
    "from minio import Minio\n",
    "from tensorflow import keras\n",
    "import os"
   ]
  },
  {
   "cell_type": "code",
   "execution_count": null,
   "id": "5e460e04-5f23-44d2-89b9-4ab9dbfcec56",
   "metadata": {},
   "outputs": [],
   "source": [
    "# Config Paramters\n",
    "minio_address = \"minio.ns-1.svc.cluster.local\"\n",
    "minio_access_key = \"kubeflow\"\n",
    "minio_secret_key = \"kubeflow123\"\n",
    "datasets_bucket = \"datasets\""
   ]
  },
  {
   "cell_type": "code",
   "execution_count": null,
   "id": "4f71c0c6-df9f-41f7-ba4b-25fe42f9559b",
   "metadata": {},
   "outputs": [],
   "source": [
    "preprocessed_data_folder = \"preprocessed-data\"\n",
    "tf_record_file_size = 500\n"
   ]
  },
  {
   "cell_type": "code",
   "execution_count": null,
   "id": "21bfaf14-9440-4000-8c1d-ccc9506630f4",
   "metadata": {},
   "outputs": [],
   "source": [
    "# Configure TF to use MinIO\n",
    "os.environ[\"AWS_ACCESS_KEY_ID\"] = minio_access_key\n",
    "os.environ[\"AWS_SECRET_ACCESS_KEY\"] = minio_secret_key\n",
    "os.environ[\"AWS_REGION\"] = \"us-east-1\"\n",
    "os.environ[\"S3_ENDPOINT\"] = minio_address\n",
    "os.environ[\"S3_USE_HTTPS\"] = \"0\"\n",
    "os.environ[\"S3_VERIFY_SSL\"] = \"0\""
   ]
  },
  {
   "cell_type": "code",
   "execution_count": null,
   "id": "c73bd3b9-29c7-4d64-bd18-e4f700d40460",
   "metadata": {},
   "outputs": [],
   "source": [
    "minioClient = Minio(minio_address,\n",
    "                    access_key=minio_access_key,\n",
    "                    secret_key=minio_secret_key,\n",
    "                    secure=False)"
   ]
  },
  {
   "cell_type": "code",
   "execution_count": null,
   "id": "98ec9921-acc1-419b-b1bc-01ba558e6564",
   "metadata": {},
   "outputs": [],
   "source": [
    "AUTO = tf.data.experimental.AUTOTUNE\n",
    "ignore_order = tf.data.Options()\n",
    "ignore_order.experimental_deterministic = False"
   ]
  },
  {
   "cell_type": "code",
   "execution_count": null,
   "id": "cbb7c578-ad9f-4ebf-989f-de324459c3fe",
   "metadata": {},
   "outputs": [],
   "source": [
    "# List all testing tfrecord files\n",
    "objects = minioClient.list_objects(datasets_bucket, prefix=f\"{preprocessed_data_folder}/test\")\n",
    "testing_files_list = []\n",
    "for obj in objects:\n",
    "    testing_files_list.append(obj.object_name)"
   ]
  },
  {
   "cell_type": "code",
   "execution_count": null,
   "id": "c7de2012-082b-4c4b-8365-b09af1582ae1",
   "metadata": {},
   "outputs": [],
   "source": [
    "testing_filenames = [f\"s3://datasets/{f}\" for f in testing_files_list]"
   ]
  },
  {
   "cell_type": "code",
   "execution_count": null,
   "id": "7b27c9bd-7c04-4000-88e4-149ddfe0e90c",
   "metadata": {},
   "outputs": [],
   "source": [
    "testing_dataset = tf.data.TFRecordDataset(testing_filenames, num_parallel_reads=AUTO, compression_type=\"GZIP\")\n",
    "testing_dataset = testing_dataset.with_options(ignore_order)\n"
   ]
  },
  {
   "cell_type": "code",
   "execution_count": null,
   "id": "4bb1d2b0-8ceb-45fa-a069-b0c1fe649960",
   "metadata": {},
   "outputs": [],
   "source": [
    "def decode_fn(record_bytes):\n",
    "    schema = {\n",
    "        \"label\": tf.io.FixedLenFeature([2], dtype=tf.int64),\n",
    "        \"sentence\": tf.io.FixedLenFeature([512], dtype=tf.float32),\n",
    "    }\n",
    "\n",
    "    tf_example = tf.io.parse_single_example(record_bytes, schema)\n",
    "    new_shape = tf.reshape(tf_example[\"sentence\"], [1, 512])\n",
    "    label = tf.reshape(tf_example[\"label\"], [1, 2])\n",
    "    return new_shape, label\n"
   ]
  },
  {
   "cell_type": "code",
   "execution_count": null,
   "id": "b437a317-7ea3-45b5-a292-969a122757d0",
   "metadata": {},
   "outputs": [],
   "source": [
    "testing_mapped_ds = testing_dataset.map(decode_fn)\n",
    "testing_mapped_ds = testing_mapped_ds.repeat(5)\n",
    "testing_mapped_ds = testing_mapped_ds.batch(128)"
   ]
  },
  {
   "cell_type": "code",
   "execution_count": null,
   "id": "f23eadf0-7e24-48f0-81f5-84fcc989fac4",
   "metadata": {},
   "outputs": [],
   "source": [
    "# load model\n",
    "model_destination = f\"s3://{datasets_bucket}/imdb_sentiment_analysis/1\"\n",
    "model = keras.models.load_model(model_destination)"
   ]
  },
  {
   "cell_type": "code",
   "execution_count": null,
   "id": "198f6765-430c-4d66-a9f5-64e5e014d40a",
   "metadata": {},
   "outputs": [],
   "source": [
    "testing = model.evaluate(testing_mapped_ds)\n",
    "print(testing)\n",
    "\n",
    "with open(output_text_path, 'w') as writer:\n",
    "    writer.write(\"done eval!\")"
   ]
  }
 ],
 "metadata": {
  "kernelspec": {
   "display_name": "Python 3",
   "language": "python",
   "name": "python3"
  },
  "language_info": {
   "codemirror_mode": {
    "name": "ipython",
    "version": 3
   },
   "file_extension": ".py",
   "mimetype": "text/x-python",
   "name": "python",
   "nbconvert_exporter": "python",
   "pygments_lexer": "ipython3",
   "version": "3.8.10"
  }
 },
 "nbformat": 4,
 "nbformat_minor": 5
}
